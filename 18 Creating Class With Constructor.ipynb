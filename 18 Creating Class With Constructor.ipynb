{
 "cells": [
  {
   "cell_type": "code",
   "execution_count": 3,
   "metadata": {},
   "outputs": [],
   "source": [
    "class Employee:\n",
    "    def __init___(self,name,age,gender,salary):\n",
    "        self.name = name\n",
    "        self.age = age\n",
    "        self.gender = gender\n",
    "        self.salary = salary\n",
    "        \n",
    "    def show_details(self): \n",
    "        print('Employee Name is = {}'.format(self.name))\n",
    "        print('Employee Age is = {}'.format(self.age))\n",
    "        print('Employee Gender is = {}'.format(self.gender))\n",
    "        print('Employee Salary is = {}'.format(self.salary))\n",
    "        "
   ]
  },
  {
   "cell_type": "code",
   "execution_count": 4,
   "metadata": {},
   "outputs": [
    {
     "name": "stdout",
     "output_type": "stream",
     "text": [
      "Employee Name is = Jon\n",
      "Employee Age is = 25\n",
      "Employee Gender is = Male\n",
      "Employee Salary is = 55000\n"
     ]
    }
   ],
   "source": [
    "e1 = Employee()\n",
    "e1.name = 'Jon'\n",
    "e1.age = 25\n",
    "e1.gender = 'Male'\n",
    "e1.salary = 55000\n",
    "e1.show_details() "
   ]
  },
  {
   "cell_type": "code",
   "execution_count": null,
   "metadata": {},
   "outputs": [],
   "source": []
  }
 ],
 "metadata": {
  "kernelspec": {
   "display_name": "Python 3",
   "language": "python",
   "name": "python3"
  },
  "language_info": {
   "codemirror_mode": {
    "name": "ipython",
    "version": 3
   },
   "file_extension": ".py",
   "mimetype": "text/x-python",
   "name": "python",
   "nbconvert_exporter": "python",
   "pygments_lexer": "ipython3",
   "version": "3.7.6"
  }
 },
 "nbformat": 4,
 "nbformat_minor": 4
}
