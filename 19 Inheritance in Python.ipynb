{
 "cells": [
  {
   "cell_type": "code",
   "execution_count": 9,
   "metadata": {},
   "outputs": [],
   "source": [
    "class Vehical:\n",
    "    def __init__(self,milege,cost):\n",
    "        self.milege = milege\n",
    "        self.cost = cost\n",
    "    def show_details(self):\n",
    "        print('Milege of Vehical is = {}'.format(self.milege))\n",
    "        print('Cost of Vehical is ={}'.format(self.cost))\n",
    "        print('I am in Vehical Class') \n",
    "        "
   ]
  },
  {
   "cell_type": "code",
   "execution_count": 10,
   "metadata": {},
   "outputs": [],
   "source": [
    "v1 = Vehical(300,500) "
   ]
  },
  {
   "cell_type": "code",
   "execution_count": 11,
   "metadata": {},
   "outputs": [
    {
     "name": "stdout",
     "output_type": "stream",
     "text": [
      "Milege of Vehical is = 300\n",
      "Cost of Vehical is =500\n",
      "I am in Vehical Class\n"
     ]
    }
   ],
   "source": [
    "v1.show_details() "
   ]
  },
  {
   "cell_type": "code",
   "execution_count": 12,
   "metadata": {},
   "outputs": [],
   "source": [
    "class Car(Vehical):\n",
    "    def show_car_details(self):\n",
    "        print('I am in Car Class')"
   ]
  },
  {
   "cell_type": "code",
   "execution_count": 13,
   "metadata": {},
   "outputs": [
    {
     "name": "stdout",
     "output_type": "stream",
     "text": [
      "Milege of Vehical is = 250\n",
      "Cost of Vehical is =600\n",
      "I am in Vehical Class\n",
      "I am in Car Class\n"
     ]
    }
   ],
   "source": [
    "c1 = Car(250,600)\n",
    "c1.show_details()\n",
    "c1.show_car_details() "
   ]
  },
  {
   "cell_type": "code",
   "execution_count": null,
   "metadata": {},
   "outputs": [],
   "source": []
  }
 ],
 "metadata": {
  "kernelspec": {
   "display_name": "Python 3",
   "language": "python",
   "name": "python3"
  },
  "language_info": {
   "codemirror_mode": {
    "name": "ipython",
    "version": 3
   },
   "file_extension": ".py",
   "mimetype": "text/x-python",
   "name": "python",
   "nbconvert_exporter": "python",
   "pygments_lexer": "ipython3",
   "version": "3.7.6"
  }
 },
 "nbformat": 4,
 "nbformat_minor": 4
}
